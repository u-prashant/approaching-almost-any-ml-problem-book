{
 "cells": [
  {
   "cell_type": "code",
   "execution_count": 1,
   "metadata": {},
   "outputs": [],
   "source": [
    "import pandas as pd\n",
    "df = pd.read_csv('datasets/winequality-red.csv')"
   ]
  },
  {
   "cell_type": "code",
   "execution_count": 2,
   "metadata": {},
   "outputs": [],
   "source": [
    "# a mapping dictionary that maps the quality values from 0 to 5\n",
    "quality_mapping = {\n",
    "    3: 0,\n",
    "    4: 1,\n",
    "    5: 2,\n",
    "    6: 3,\n",
    "    7: 4,\n",
    "    8: 5\n",
    "}\n",
    "\n",
    "df.loc[:, 'quality'] = df.quality.map(quality_mapping)"
   ]
  },
  {
   "cell_type": "code",
   "execution_count": 3,
   "metadata": {},
   "outputs": [],
   "source": [
    "# use sample with frac=1 to shuffle the dataframe\n",
    "# we reset the indices since they change after\n",
    "# shuffling the dataframe\n",
    "df = df.sample(frac=1).reset_index(drop=True)\n",
    "\n",
    "# top 1000 rows are selected\n",
    "# for training\n",
    "df_train = df.head(1000)\n",
    "\n",
    "# bottom 599 values are selected\n",
    "# for testing/validation\n",
    "df_test = df.tail(599)"
   ]
  },
  {
   "cell_type": "code",
   "execution_count": 5,
   "metadata": {},
   "outputs": [
    {
     "data": {
      "text/plain": [
       "DecisionTreeClassifier(ccp_alpha=0.0, class_weight=None, criterion='gini',\n",
       "                       max_depth=3, max_features=None, max_leaf_nodes=None,\n",
       "                       min_impurity_decrease=0.0, min_impurity_split=None,\n",
       "                       min_samples_leaf=1, min_samples_split=2,\n",
       "                       min_weight_fraction_leaf=0.0, presort='deprecated',\n",
       "                       random_state=None, splitter='best')"
      ]
     },
     "execution_count": 5,
     "metadata": {},
     "output_type": "execute_result"
    }
   ],
   "source": [
    "from sklearn import tree\n",
    "from sklearn import metrics\n",
    "\n",
    "# initialize decision tree classifier class\n",
    "# with a max_depth of 3\n",
    "clf = tree.DecisionTreeClassifier(max_depth=3)\n",
    "\n",
    "# choose the columns you want to train on\n",
    "# these are the feaures for the model\n",
    "cols = ['fixed acidity',\n",
    "        'volatile acidity',\n",
    "        'citric acid',\n",
    "        'residual sugar',\n",
    "        'chlorides',\n",
    "        'free sulfur dioxide',\n",
    "        'total sulfur dioxide',\n",
    "        'density',\n",
    "        'pH',\n",
    "        'sulphates',\n",
    "        'alcohol']\n",
    "\n",
    "# train the model on the provided features\n",
    "# and mapped quality from before\n",
    "clf.fit(df_train[cols], df_train.quality)"
   ]
  },
  {
   "cell_type": "code",
   "execution_count": 6,
   "metadata": {},
   "outputs": [],
   "source": [
    "# generate predictions on the training set\n",
    "train_predictions = clf.predict(df_train[cols])\n",
    "\n",
    "# generate predictions on the test set\n",
    "test_predictions = clf.predict(df_test[cols])\n",
    "\n",
    "# calculate the accuracy of predictions on\n",
    "# training data set\n",
    "train_accuracy = metrics.accuracy_score(\n",
    "    df_train.quality, train_predictions\n",
    ")\n",
    "\n",
    "# calculate the accuracy of predictions on \n",
    "# test data set\n",
    "test_accuracy = metrics.accuracy_score(\n",
    "    df_test.quality, test_predictions\n",
    ")"
   ]
  },
  {
   "cell_type": "code",
   "execution_count": 7,
   "metadata": {},
   "outputs": [
    {
     "name": "stdout",
     "output_type": "stream",
     "text": [
      "0.619\n",
      "0.5659432387312187\n"
     ]
    }
   ],
   "source": [
    "print(train_accuracy)\n",
    "print(test_accuracy)"
   ]
  },
  {
   "cell_type": "markdown",
   "metadata": {},
   "source": [
    "---"
   ]
  },
  {
   "cell_type": "code",
   "execution_count": 8,
   "metadata": {},
   "outputs": [],
   "source": [
    "from sklearn import tree\n",
    "from sklearn import metrics\n",
    "\n",
    "import matplotlib\n",
    "import matplotlib.pyplot as plt\n",
    "import seaborn as sns"
   ]
  },
  {
   "cell_type": "code",
   "execution_count": 9,
   "metadata": {},
   "outputs": [],
   "source": [
    "# this is our global size of label text\n",
    "# on the plots\n",
    "matplotlib.rc('xtick', labelsize=20)\n",
    "matplotlib.rc('ytick', labelsize=20)\n",
    "\n",
    "%matplotlib inline"
   ]
  },
  {
   "cell_type": "code",
   "execution_count": 10,
   "metadata": {},
   "outputs": [],
   "source": [
    "train_accuracies = [0.5]\n",
    "test_accuracies = [0.5]"
   ]
  },
  {
   "cell_type": "code",
   "execution_count": 11,
   "metadata": {},
   "outputs": [],
   "source": [
    "# choose the columns you want to train on\n",
    "# these are the feaures for the model\n",
    "cols = ['fixed acidity',\n",
    "        'volatile acidity',\n",
    "        'citric acid',\n",
    "        'residual sugar',\n",
    "        'chlorides',\n",
    "        'free sulfur dioxide',\n",
    "        'total sulfur dioxide',\n",
    "        'density',\n",
    "        'pH',\n",
    "        'sulphates',\n",
    "        'alcohol']"
   ]
  },
  {
   "cell_type": "code",
   "execution_count": 12,
   "metadata": {},
   "outputs": [],
   "source": [
    "# iterate over a few depth values\n",
    "for depth in range(1, 25):\n",
    "    # init the model\n",
    "    clf = tree.DecisionTreeClassifier(max_depth=depth)\n",
    "    \n",
    "    # fit the model on given features\n",
    "    clf.fit(df_train[cols], df_train.quality)\n",
    "    \n",
    "    # create training & testing predictions\n",
    "    train_predictions = clf.predict(df_train[cols])\n",
    "    test_predictions = clf.predict(df_test[cols])\n",
    "    \n",
    "    # calculate training & testing accuracies\n",
    "    train_accuracy = metrics.accuracy_score(\n",
    "        df_train.quality, train_predictions\n",
    "    )\n",
    "    test_accuracy = metrics.accuracy_score(\n",
    "        df_test.quality, test_predictions\n",
    "    )\n",
    "    \n",
    "    # append accuracies\n",
    "    train_accuracies.append(train_accuracy)\n",
    "    test_accuracies.append(test_accuracy)"
   ]
  },
  {
   "cell_type": "code",
   "execution_count": 13,
   "metadata": {},
   "outputs": [
    {
     "data": {
      "image/png": "[encoded data removed]",
      "text/plain": [
       "<Figure size 720x360 with 1 Axes>"
      ]
     },
     "metadata": {
      "needs_background": "light"
     },
     "output_type": "display_data"
    }
   ],
   "source": [
    "# create two plots using matplotlib \n",
    "# and seaborn\n",
    "plt.figure(figsize=(10, 5))\n",
    "sns.set_style(\"whitegrid\")\n",
    "plt.plot(train_accuracies, label='train accuracy')\n",
    "plt.plot(test_accuracies, label='test accuracy')\n",
    "plt.legend(loc='upper left', prop={'size': 15})\n",
    "plt.xticks(range(0, 26, 5))\n",
    "plt.xlabel('max_depth', size=20)\n",
    "plt.ylabel('accuracy', size=20)\n",
    "plt.show()"
   ]
  },
  {
   "cell_type": "code",
   "execution_count": null,
   "metadata": {},
   "outputs": [],
   "source": []
  }
 ],
 "metadata": {
  "kernelspec": {
   "display_name": "Python 3",
   "language": "python",
   "name": "python3"
  },
  "language_info": {
   "codemirror_mode": {
    "name": "ipython",
    "version": 3
   },
   "file_extension": ".py",
   "mimetype": "text/x-python",
   "name": "python",
   "nbconvert_exporter": "python",
   "pygments_lexer": "ipython3",
   "version": "3.7.6"
  }
 },
 "nbformat": 4,
 "nbformat_minor": 4
}
